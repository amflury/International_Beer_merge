{
 "cells": [
  {
   "cell_type": "code",
   "execution_count": null,
   "metadata": {},
   "outputs": [],
   "source": [
    "#import dependencies\n",
    "import pandas as pd\n",
    "import numpy as np"
   ]
  },
  {
   "cell_type": "code",
   "execution_count": null,
   "metadata": {},
   "outputs": [],
   "source": [
    "#read file\n",
    "beers_pd = pd.read_csv(\"resources/open-beer-database.csv\")\n",
    "beers_pd.head()"
   ]
  },
  {
   "cell_type": "code",
   "execution_count": null,
   "metadata": {},
   "outputs": [],
   "source": [
    "#select columns\n",
    "beers_df = beers_pd[['Name','Alcohol By Volume','Style','Category','Brewer','City','State','Country']]\n",
    "beers_df.head()"
   ]
  },
  {
   "cell_type": "code",
   "execution_count": null,
   "metadata": {},
   "outputs": [],
   "source": [
    "#removed NaNs from Style\n",
    "beers_df = beers_df[beers_df['Style'].notna()]\n",
    "beers_df.head()\n"
   ]
  },
  {
   "cell_type": "code",
   "execution_count": null,
   "metadata": {},
   "outputs": [],
   "source": [
    "# remove US from Country\n",
    "beers_no_us = beers_df.loc[beers_df.Country.values != 'United States']\n",
    "beers_no_us.head()"
   ]
  },
  {
   "cell_type": "code",
   "execution_count": null,
   "metadata": {},
   "outputs": [],
   "source": [
    "#change column names\n",
    "beers_no_us = beers_no_us.rename(columns={'Alcohol By Volume': 'abv','Name':'Beer Name','Brewer':'Brewery Name'})\n",
    "beers_no_us"
   ]
  },
  {
   "cell_type": "code",
   "execution_count": null,
   "metadata": {},
   "outputs": [],
   "source": [
    "#sort breweries for count off\n",
    "beers_no_us = beers_no_us.sort_values(by=['Brewery Name'], ascending=[True])\n",
    "beers_no_us"
   ]
  },
  {
   "cell_type": "code",
   "execution_count": null,
   "metadata": {},
   "outputs": [],
   "source": [
    "#group breweries to establish a count and prepare to add an id # that will work with our us data\n",
    "grouped_brewery = beers_no_us.groupby(['Brewery Name']).count()\n",
    "grouped_brewery\n"
   ]
  },
  {
   "cell_type": "code",
   "execution_count": null,
   "metadata": {},
   "outputs": [],
   "source": [
    "#create Brewery ID function\n",
    "brew_id = 577\n",
    "brewery_id = []\n",
    "for row in range(len(grouped_brewery['Country'])):\n",
    "    brew_id = brew_id + 1\n",
    "    brewery_id.append(brew_id)\n",
    "    \n",
    "\n",
    "\n",
    "    \n",
    "\n",
    "\n",
    "grouped_brewery['Brewery Id']=brewery_id\n",
    "grouped_brewery"
   ]
  },
  {
   "cell_type": "code",
   "execution_count": null,
   "metadata": {},
   "outputs": [],
   "source": [
    "#merge DataFrames to make it easier to pull the values we need for each table.\n",
    "full_df = beers_no_us.merge(grouped_brewery, left_on = ['Brewery Name'], right_on = ['Brewery Name'], how = 'left')\n",
    "full_df"
   ]
  },
  {
   "cell_type": "code",
   "execution_count": null,
   "metadata": {},
   "outputs": [],
   "source": [
    "#create our international brewery dataframe \n",
    "international_brewery = full_df[['Brewery Id', 'Brewery Name', 'City_x', 'State_x', 'Country_x', 'City_y']]\n",
    "international_brewery"
   ]
  },
  {
   "cell_type": "code",
   "execution_count": null,
   "metadata": {},
   "outputs": [],
   "source": [
    "#drop duplicate rows and rename the columns\n",
    "international_brewery = international_brewery.drop_duplicates(['Brewery Name'], keep = 'first')\n",
    "international_brewery = international_brewery.rename(columns = {'City_x':'city', 'State_x':'state', 'Country_x':'country', 'City_y':'beer_count', 'Brewery Id':'brewery_id','Brewery Name':'brewery_name'})\n",
    "international_brewery"
   ]
  },
  {
   "cell_type": "code",
   "execution_count": null,
   "metadata": {},
   "outputs": [],
   "source": [
    "#import items to run api requests from google\n",
    "import requests\n",
    "import json\n",
    "from config import gkey\n"
   ]
  },
  {
   "cell_type": "code",
   "execution_count": null,
   "metadata": {},
   "outputs": [],
   "source": [
    "#establish a base Url and a list of values to search\n",
    "base_url = 'https://maps.googleapis.com/maps/api/place/findplacefromtext/json?input='\n",
    "brewery= international_brewery['brewery_name']"
   ]
  },
  {
   "cell_type": "code",
   "execution_count": null,
   "metadata": {},
   "outputs": [],
   "source": [
    "#create a value to return and runa for loop the request the rating of each brewery from google.\n",
    "rating = []\n",
    "for b in brewery:\n",
    "    query_url = f'{base_url}{b}&inputtype=textquery&fields=name,rating&key={gkey}'\n",
    "    response = requests.get(query_url)\n",
    "    response_json = response.json()\n",
    "    try:\n",
    "      rating.append(response_json['candidates'][-1]['rating'])\n",
    "    except:\n",
    "        rating.append('NaN')\n",
    "        \n",
    "rating  "
   ]
  },
  {
   "cell_type": "code",
   "execution_count": null,
   "metadata": {},
   "outputs": [],
   "source": [
    "#add the rating to the DataFrame\n",
    "international_brewery['rating'] = rating\n",
    "international_brewery = international_brewery.drop(columns = ['Rating'])\n",
    "international_brewery"
   ]
  },
  {
   "cell_type": "code",
   "execution_count": null,
   "metadata": {},
   "outputs": [],
   "source": [
    "#create our international beers DataFrame and rename for consistency\n",
    "international_beers = full_df[['Beer Name_x', 'Style_x','abv_x', 'Brewery Id']]\n",
    "international_beers = international_beers.rename(columns = {'Beer Name_x':'beer_name', 'Style_x':'style', 'abv_x':'ABV', 'Beer Name':'beer_name','Brewery Id':'brewery_id'})\n",
    "international_beers"
   ]
  },
  {
   "cell_type": "code",
   "execution_count": null,
   "metadata": {},
   "outputs": [],
   "source": [
    "#save as a csv so we don't have to run the API code again to load our DataFrames into SQL.\n",
    "international_brewery.to_csv('output/final_international_brewery.csv')\n",
    "international_beers.to_csv('output/final_international_beers.csv')\n"
   ]
  },
  {
   "cell_type": "code",
   "execution_count": null,
   "metadata": {},
   "outputs": [],
   "source": [
    "#import sqlalchemy\n",
    "from sqlalchemy import create_engine"
   ]
  },
  {
   "cell_type": "code",
   "execution_count": null,
   "metadata": {},
   "outputs": [],
   "source": [
    "#establish connection to the database\n",
    "connection_string = \"postgres:postgres@localhost:5432/Beer_db\"\n",
    "engine = create_engine(f'postgresql://{connection_string}')"
   ]
  },
  {
   "cell_type": "code",
   "execution_count": null,
   "metadata": {},
   "outputs": [],
   "source": [
    "#check table have been created\n",
    "engine.table_names()"
   ]
  },
  {
   "cell_type": "code",
   "execution_count": null,
   "metadata": {},
   "outputs": [],
   "source": [
    "#push the beers dataframe to sql\n",
    "international_beers.to_sql(name = 'beer_tbl', con = engine, if_exists='append', index = False)"
   ]
  },
  {
   "cell_type": "code",
   "execution_count": null,
   "metadata": {},
   "outputs": [],
   "source": [
    "#push the brewery dataframe to sql\n",
    "international_brewery.to_sql(name = 'brewery_tbl', con = engine, if_exists='append', index = False)"
   ]
  },
  {
   "cell_type": "code",
   "execution_count": null,
   "metadata": {},
   "outputs": [],
   "source": []
  }
 ],
 "metadata": {
  "kernelspec": {
   "display_name": "Python 3",
   "language": "python",
   "name": "python3"
  },
  "language_info": {
   "codemirror_mode": {
    "name": "ipython",
    "version": 3
   },
   "file_extension": ".py",
   "mimetype": "text/x-python",
   "name": "python",
   "nbconvert_exporter": "python",
   "pygments_lexer": "ipython3",
   "version": "3.6.9"
  }
 },
 "nbformat": 4,
 "nbformat_minor": 2
}
